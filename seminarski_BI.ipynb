{
 "cells": [
  {
   "cell_type": "markdown",
   "metadata": {
    "slideshow": {
     "slide_type": "slide"
    }
   },
   "source": [
    "# Seminarski rad iz Bioinformatike\n",
    "<br>\n",
    "## Tema: Predstavljanje DNK kao podatka i njegova primena kod Guanin-Citozin sadržaja\n",
    "<br>\n",
    "### Maksim Đurđevac \n",
    "    indeks: 1110/2016\n",
    "    email: mi11362@alas.matf.bg.ac.rs\n",
    "### Nenad Lazić\n",
    "    indeks: 1092/2015\n",
    "    email: nenadlatic13@gmail.com\n"
   ]
  },
  {
   "cell_type": "markdown",
   "metadata": {
    "slideshow": {
     "slide_type": "slide"
    }
   },
   "source": [
    "## Predstavljanje DNK kao podatka\n",
    "- Dvostruki heliks - nosilac genetskog sadržaja\n",
    "- Veze heliksa su parovi nukleotida\n",
    "- Nukleotidi: \n",
    "    - adenin\n",
    "    - timin\n",
    "    - gudanin\n",
    "    - citozin\n",
    "- Komplementarnost nukleotida u vezama\n",
    "    - adenin <-> timin\n",
    "    - guanin <-> citozin\n"
   ]
  },
  {
   "cell_type": "code",
   "execution_count": 2,
   "metadata": {
    "collapsed": false,
    "slideshow": {
     "slide_type": "slide"
    }
   },
   "outputs": [
    {
     "name": "stdout",
     "output_type": "stream",
     "text": [
      "pozdrav\n"
     ]
    }
   ],
   "source": [
    "def some_function():\n",
    "    print(\"pozdrav\")\n",
    "\n",
    "some_function()"
   ]
  },
  {
   "cell_type": "code",
   "execution_count": null,
   "metadata": {
    "collapsed": true
   },
   "outputs": [],
   "source": []
  }
 ],
 "metadata": {
  "celltoolbar": "Slideshow",
  "kernelspec": {
   "display_name": "Python 3",
   "language": "python",
   "name": "python3"
  },
  "language_info": {
   "codemirror_mode": {
    "name": "ipython",
    "version": 3
   },
   "file_extension": ".py",
   "mimetype": "text/x-python",
   "name": "python",
   "nbconvert_exporter": "python",
   "pygments_lexer": "ipython3",
   "version": "3.6.0"
  }
 },
 "nbformat": 4,
 "nbformat_minor": 2
}
