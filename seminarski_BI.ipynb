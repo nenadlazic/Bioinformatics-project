{
 "cells": [
  {
   "cell_type": "markdown",
   "metadata": {
    "slideshow": {
     "slide_type": "slide"
    }
   },
   "source": [
    "# Seminarski rad iz Bioinformatike\n",
    "<br>\n",
    "## Tema: Predstavljanje DNK kao podatka i njegova primena kod Guanin-Citozin sadržaja\n",
    "<br>\n",
    "### Maksim Đurđevac \n",
    "    indeks: 1110/2016\n",
    "    email: mi11362@alas.matf.bg.ac.rs\n",
    "### Nenad Lazić\n",
    "    indeks: 1092/2015\n",
    "    email: nenadlatic13@gmail.com\n"
   ]
  },
  {
   "cell_type": "markdown",
   "metadata": {
    "slideshow": {
     "slide_type": "slide"
    }
   },
   "source": [
    "## Šta je DNA?\n",
    "- DNA (DeoxyriboNucleic Acid)\n",
    "\n",
    "- Sadrži uputstva za razvoj i pravilno funkcionisanje organizama\n",
    "\n",
    "<img src=\"files/celija.jpg\">\n"
   ]
  },
  {
   "cell_type": "markdown",
   "metadata": {
    "slideshow": {
     "slide_type": "slide"
    }
   },
   "source": [
    "## Predstavljanje DNK kao podatka\n",
    "- Dvostruki heliks - nosilac genetskog sadržaja\n",
    "- Veze heliksa su parovi nukleotida\n",
    "- Nukleotidi: \n",
    "    - A - adenin\n",
    "    - T - timin\n",
    "    - G - gudanin\n",
    "    - C - citozin\n",
    "- Komplementarnost nukleotida u vezama\n",
    "    - adenin <-> timin\n",
    "    - guanin <-> citozin\n"
   ]
  },
  {
   "cell_type": "markdown",
   "metadata": {
    "slideshow": {
     "slide_type": "slide"
    }
   },
   "source": [
    "## Hromozomi\n",
    "- Hromozomi su najvaznija komponenta jedra i oni su nosioci naslednih jedinica(gena)\n",
    "- Svojom aktivnošću određuju i regulišu metaboličke i sve ostale životne procese u ćelijama\n",
    "- Ljudska celija ima 22 hromozoma plus bilo XX ili XY hromozom koji odredjuje pol osobe\n",
    "- Ovi hromozomi sadrze niti DNK koje su obmotane kao dvostruka spirala (razlog veliki broj informacija)\n",
    "- Jezgro sadrži oko 3 milijarde nukleotida i DNK\n",
    "-  Jedro regulise sve procese u celiji u njemu se obavlja: \n",
    "    1. siteza(spajanje) DNK \n",
    "    2. svih vrsta RNK(transkripcija)\n",
    "    3. dela proteina(translacija)"
   ]
  },
  {
   "cell_type": "markdown",
   "metadata": {
    "slideshow": {
     "slide_type": "slide"
    }
   },
   "source": [
    "## Predstavljanje DNK kao podatka u digitalnom obliku\n",
    "- DNK cine dva heliksa povezana sa dva medjusobno komplementarna nukleotida\n",
    "- Dovoljno je zapisati nukleotide sa jedne strane veze\n",
    "- DNK se predstavlja dugačkim stringom koji čine početna slova naziva nukleotida\n",
    "    ...ACAAGATGCCATTGTCCCCCGGCCTCCTGCTGCTGCTGCTCTCCGGGGCCACGGCCACCGCTGCCCTGCC...\n",
    "- Kada bi se ,,odvio\" DNK imao bi dužinu oko 10m"
   ]
  },
  {
   "cell_type": "markdown",
   "metadata": {
    "slideshow": {
     "slide_type": "slide"
    }
   },
   "source": [
    "## Mitohondrije kao nosioci DNA\n",
    "- U unutrašnjosti ćelije obrazuje se čitav sistem membrana koje dele ćeliju na odeljke za obavljanje različitih funkcija u ćeliji i koje se zovu ćelijske organele. Dele se prema svojoj funkciji:\n",
    "    1. Organele koje učestvuju u procesima sinteze\n",
    "        - ribozomi\n",
    "        - endoplazmatični retikulum\n",
    "        - Goldžijev aparat\n",
    "    2. Organele u kojima se skladište hidrolitički enzimi\n",
    "        - litotomi\n",
    "        - peroksizomi\n",
    "        - vakuole biljne ćelije\n",
    "    3. Organele u kojima se sintetiše ATP\n",
    "        - mitohondrije\n",
    "        - hloroplasti\n",
    "        \n",
    "- Ovom podelom nisu obuhvaćeni jedro i centrozom\n",
    "- Mitohondrije se nalze izvan jezgra u citolazmi.\n",
    "    \n",
    "    \n"
   ]
  },
  {
   "cell_type": "markdown",
   "metadata": {
    "slideshow": {
     "slide_type": "slide"
    }
   },
   "source": [
    "## Kako se sintetiše protein\n",
    "- DNK sadrzi informacije koje su neophodne za gradjenje proteina\n",
    "- Proteini su dugacke niti aminokiselina\n",
    "- U citoplazmi se na DNK zakaci Ribozom koji cita DNK i prevodi ga u Amino kiseline\n",
    "- Kodon(grupa od 3 nukleotida) se prevodi u amino kiselinu \n",
    "- Lanac dobijenih amino kiselina cine protein\n",
    "\n",
    "<img src=\"files/kproteina.png\">"
   ]
  },
  {
   "cell_type": "markdown",
   "metadata": {
    "slideshow": {
     "slide_type": "slide"
    }
   },
   "source": [
    "## Alii... nije sve tako jednostavno\n",
    "- Neke od komplikacija:\n",
    "    1. Gen se moze sastojati iz vise delova DNK koji pocinju na razlicitim mestima\n",
    "    2. Za kreiranje GEN-a nekad je potrebno koristiti vise zapise DNK sa vise razlicitih pozicija. Oni se koriste za kreiranje mRNA koji se potom translira u protein\n",
    "    4. Ti delovi DNA koji su nam znacanjni za ocitavanje GEN-a nazivaju se exon-i (eng. exons) a delovi DNA izmedju exona-a nazivaju se introni(eng. introns), problem je detektovati gde je start codon i stop codon\n",
    "    <img src=\"files/exonsintrons.png\">\n",
    "    "
   ]
  },
  {
   "cell_type": "markdown",
   "metadata": {
    "slideshow": {
     "slide_type": "slide"
    }
   },
   "source": [
    "## Prevodjenje DNA u amino kiselinu\n",
    "<img src=\"files/aminoacid.png\">"
   ]
  },
  {
   "cell_type": "code",
   "execution_count": 60,
   "metadata": {
    "collapsed": false
   },
   "outputs": [
    {
     "name": "stdout",
     "output_type": "stream",
     "text": [
      "Duzina:490887\n"
     ]
    }
   ],
   "source": [
    "import io\n",
    "import sys\n",
    "import re\n",
    "\n",
    "ime_fajla_1 = \"data/sequence.gb\"\n",
    "\n",
    "def LoadDNA( ime_fajla):\n",
    "    flag = False\n",
    "    dna = \"\"\n",
    "    pattern=re.compile(r'(\\s*)(\\d*)(\\s)(\\w+)(\\s+)?(\\w+)?(\\s+)?(\\w+)?(\\s+)?(\\w+)?(\\s+)?(\\w+)?(\\s+)?(\\w+)?',re.M)\n",
    "    \n",
    "    with io.open(ime_fajla) as reader:\n",
    "        for line in reader:\n",
    "            if flag:\n",
    "                replaced=pattern.sub(r\"\\4\\6\\8\\10\\12\\14\",line)\n",
    "                dna+=replaced\n",
    "                continue\n",
    "                \n",
    "            if 'ORIGIN' in line:\n",
    "                flag = True\n",
    "           \n",
    "    dna = dna[:-2]\n",
    "    dna=dna.replace('\\n','')\n",
    "    #print(dna[:-2])\n",
    "    print('Duzina:'+str(len(dna)))\n",
    "    return dna\n",
    "                \n",
    "rDna=LoadDNA(ime_fajla_1)\n",
    "\n"
   ]
  },
  {
   "cell_type": "code",
   "execution_count": 61,
   "metadata": {
    "collapsed": false
   },
   "outputs": [
    {
     "name": "stdout",
     "output_type": "stream",
     "text": [
      "Broj sekvenci genoma: 535\n"
     ]
    }
   ],
   "source": [
    "def LoadBounds(ime_fajla):\n",
    "    \n",
    "    pattern=re.compile(r'(\\s*)CDS(\\s*)(\\d+)\\.\\.(\\d+)',re.M)\n",
    "    pattern_complement=re.compile(r'(\\s*)CDS(\\s*)complement\\((\\d+)\\.\\.(\\d+)\\)',re.M)\n",
    "    \n",
    "    genom_sequence=[]\n",
    "    \n",
    "    with io.open(ime_fajla) as reader:\n",
    "        for line in reader:\n",
    "            match_object = pattern.match(line)\n",
    "            if match_object:\n",
    "                start=match_object.group(3)\n",
    "                stop=match_object.group(4)\n",
    "                #print('start: \\t'+start+'\\tstop: \\t'+stop)\n",
    "                iStart= int(start)\n",
    "                iStop=int(stop)\n",
    "                tup = (iStart,iStop,True)\n",
    "                genom_sequence.append(tup)\n",
    "            else:\n",
    "                match_object1 = pattern_complement.match(line)\n",
    "                if match_object1:\n",
    "                    start1=match_object1.group(3)\n",
    "                    stop1=match_object1.group(4)\n",
    "                    #print('start: \\t'+start1+'\\tstop: \\t'+stop1)\n",
    "                    iStart= int(start1)\n",
    "                    iStop=int(stop1)\n",
    "                    tup = (iStart,iStop,False)\n",
    "                    genom_sequence.append(tup)                \n",
    "    #print(genom_sequence)\n",
    "    print('Broj sekvenci genoma: '+str(len(genom_sequence)))\n",
    "    return genom_sequence\n",
    "                \n",
    "\n",
    "               \n",
    "x = LoadBounds(ime_fajla_1)\n",
    "        \n",
    "    "
   ]
  },
  {
   "cell_type": "code",
   "execution_count": 62,
   "metadata": {
    "collapsed": false
   },
   "outputs": [
    {
     "name": "stdout",
     "output_type": "stream",
     "text": [
      "Duzina:490887\n"
     ]
    }
   ],
   "source": [
    "def Complement(sekvenca):\n",
    "    res=\"\"\n",
    "    for c in sekvenca:\n",
    "        #print(c)\n",
    "        if c == 'a':\n",
    "            res+='t'\n",
    "        elif c == 't':\n",
    "            res+='a'\n",
    "        elif c == 'g':\n",
    "            res+='c'\n",
    "        elif c == 'c':\n",
    "            res+='g'\n",
    "    return res\n",
    "        \n",
    "        \n",
    "rDna=LoadDNA(ime_fajla_1)\n",
    "#print(rDna[100:200])\n",
    "\n",
    "#print(rDna[50:100])\n",
    "#x=Complement(rDna[50:100])\n",
    "#print(x)\n",
    "\n",
    "def reversed_string(a_string):\n",
    "    return a_string[::-1]"
   ]
  },
  {
   "cell_type": "code",
   "execution_count": 63,
   "metadata": {
    "collapsed": false
   },
   "outputs": [
    {
     "name": "stdout",
     "output_type": "stream",
     "text": [
      "Broj kodirajucih segmenata koji nisu validni: \n",
      "0\n"
     ]
    }
   ],
   "source": [
    "def CheckForStartsStops(dna ,bounds):\n",
    "    N = len ( bounds )\n",
    "    bad = []\n",
    "\n",
    "    for i in range ( N ) :\n",
    "        start, stop, cflag=bounds[i]\n",
    "        cut = dna[start-1:stop]\n",
    "        #print('start: \\t'+str(start)+'\\t stop\\t'+str(stop)+'\\tflag:\\t'+str(cflag))\n",
    "        #print(cut)\n",
    "        if cflag==False:\n",
    "            cut=Complement(cut)\n",
    "            cut=reversed_string(cut)\n",
    "            #print(\"poziva se Complement\")\n",
    "        m3=(stop-( start-1))%3\n",
    "        startcodon = cut [:3]\n",
    "        stopcodon = cut [-3:]\n",
    "        if m3==0 and (startcodon=='atg' or startcodon=='gtg'\\\n",
    "            or startcodon=='ttg') and (stopcodon=='tag' or\\\n",
    "            stopcodon=='taa' or stopcodon=='tga'):\n",
    "            #print('OK')\n",
    "            pass\n",
    "        else:\n",
    "            #print('FAIL')\n",
    "            bad.append((start,stop,cflag))\n",
    "    return bad\n",
    "\n",
    "bad=CheckForStartsStops(rDna, x)\n",
    "\n",
    "print('Broj kodirajucih segmenata koji nisu validni: ')\n",
    "print(len(bad))"
   ]
  },
  {
   "cell_type": "markdown",
   "metadata": {
    "collapsed": false,
    "slideshow": {
     "slide_type": "slide"
    }
   },
   "source": [
    "## Šta je GC-sadržaj?\n",
    "- GC-sadržaj(guanin-citozinski sadrzaj)\n",
    "- Udeo azotnih baza u DNK molekulu koje su bilo guanin ili citozin\n",
    "- Neki regioni DNA su bogati GC sadrzajem i znacajni su\n",
    "- GC bogati regioni se racunaju po formuli p=(Ng+Nc)/(Na+Ng+Nc+Nt)"
   ]
  },
  {
   "cell_type": "markdown",
   "metadata": {
    "slideshow": {
     "slide_type": "slide"
    }
   },
   "source": [
    "## Na šta se odnosi?\n",
    "- Specifičan fragment DNK ili RNK molekula\n",
    "- Ceo genom\n",
    "- U slučaju fragmenta genetičkog materijala, GC-sadržaj se moze odnositi na deo gena (domen), ceo gen, grupu gena (ili genski klaster), ili na nekodirajući region."
   ]
  },
  {
   "cell_type": "markdown",
   "metadata": {
    "slideshow": {
     "slide_type": "slide"
    }
   },
   "source": [
    "## Odredjivanje GC sadrzaja\n",
    "- GC sadrzaj se obicno izrazava u procentima, a u nekim slucajevima kao odnos\n",
    "- Procentni GC-sadrzaj je  ((G + C) / (A + T + G + C))∗ 100\n",
    "- AT/GC odnos je (A + T)/(G + C)\n",
    "- GC domen u DNK može da pruži mnogo bolji uvid u razumevanje organizacije i biološke funkcije \t\t \tgenoma."
   ]
  },
  {
   "cell_type": "markdown",
   "metadata": {
    "slideshow": {
     "slide_type": "slide"
    }
   },
   "source": [
    "## Nekodirajuća DNK\n",
    "- Skup svih gena u jednoj haploidnoj ćeliji je genom.\n",
    "- Deo genoma sadrži nizove nukleotida koji ne nose šifru za sintezu proteina.\n",
    "- Šta su egzoni i nitroni ?\n",
    "- Gradja gena eukariota.\n",
    "- Gradja gena prokariota\n",
    "- Šta opisuje nekodirajuća DNK?\n",
    "- „DNK smeće“\n",
    "- Variranje količina genomske DNK(primer).\n",
    "- Šta je  transkripcija?\n",
    "- Oko 80 procenata nukleotidnih baza u humanom genomu se može transkribovati, ali \t\t\t\ttranskripcija ne podrazumeva funkciju."
   ]
  },
  {
   "cell_type": "markdown",
   "metadata": {
    "slideshow": {
     "slide_type": "slide"
    }
   },
   "source": [
    "## Kodirajuća DNK\n",
    "- Sastoji se od eksona.\n",
    "- Šta je ekson?\n",
    "- Šta je RNK-splajsovanje?"
   ]
  },
  {
   "cell_type": "code",
   "execution_count": 67,
   "metadata": {
    "collapsed": false,
    "slideshow": {
     "slide_type": "slide"
    }
   },
   "outputs": [],
   "source": [
    "def GCcontent(dna, window=128, step=32):\n",
    "    answ=[]\n",
    "    for i in range(0,len(dna), step):\n",
    "        cut=dna[i:i+window].lower()\n",
    "        a=cut.count('a')\n",
    "        g=cut.count('g')\n",
    "        c=cut.count('c')\n",
    "        t=cut.count('t')\n",
    "        ratio=float(c+g)/(a+c+g+t)\n",
    "        answ.append(ratio)\n",
    "    return answ\n",
    "\n",
    "gccon=GCcontent(rDna,8,4)\n",
    "#print(gccon)"
   ]
  },
  {
   "cell_type": "code",
   "execution_count": 68,
   "metadata": {
    "collapsed": false
   },
   "outputs": [
    {
     "name": "stdout",
     "output_type": "stream",
     "text": [
      "Duzina:4411534\n",
      "Broj sekvenci genoma: 3906\n"
     ]
    }
   ],
   "source": [
    "def Noncoding ( indna , bounds ) :\n",
    "    answ = []\n",
    "    for k in range ( len ( bounds )-1) :\n",
    "        stop = bounds [ k ][1] # stop of first gene\n",
    "        start = bounds [ k +1][0] # start of next gene\n",
    "        if start-stop > 178:\n",
    "            cut = indna [ stop : start-50]\n",
    "            answ.extend(GCcontent(cut))\n",
    "            #print(\"duzina nekodirajuce sekvence: \"+str(len(cut)))\n",
    "    return answ\n",
    "\n",
    "#test\n",
    "fajl_tub=\"data/mycrobacterium_tuberculosis.gb\"\n",
    "tuberkulozaDNA=LoadDNA(fajl_tub)\n",
    "tuberkulozaBounds=LoadBounds(fajl_tub)\n",
    "nonCodingRegions=Noncoding(tuberkulozaDNA, tuberkulozaBounds)\n"
   ]
  },
  {
   "cell_type": "code",
   "execution_count": 69,
   "metadata": {
    "collapsed": false
   },
   "outputs": [
    {
     "name": "stdout",
     "output_type": "stream",
     "text": [
      "\taverage\t\tstandard deviation\n"
     ]
    },
    {
     "data": {
      "text/plain": [
       "(0.62839984195030119, 0.080341977722935581)"
      ]
     },
     "execution_count": 69,
     "metadata": {},
     "output_type": "execute_result"
    }
   ],
   "source": [
    "import numpy as np\n",
    "\n",
    "def StatsOf(inlist):\n",
    "    vec=np.array(inlist)\n",
    "    return vec.mean(), vec.std()\n",
    "\n",
    "nonCodingRegions=Noncoding(tuberkulozaDNA, tuberkulozaBounds)\n",
    "print(\"\\taverage\\t\\tstandard deviation\")\n",
    "StatsOf(nonCodingRegions)"
   ]
  },
  {
   "cell_type": "code",
   "execution_count": 70,
   "metadata": {
    "collapsed": true
   },
   "outputs": [],
   "source": [
    "def Coding(indna, bounds):\n",
    "    answ = []\n",
    "    for k in range(len(bounds)):\n",
    "        start, stop, cflag=bounds[k]\n",
    "        if cflag==0 and stop-start>128:\n",
    "            answ.extend(GCcontent(indna[start:stop]))\n",
    "    return answ"
   ]
  },
  {
   "cell_type": "code",
   "execution_count": 71,
   "metadata": {
    "collapsed": false
   },
   "outputs": [
    {
     "name": "stdout",
     "output_type": "stream",
     "text": [
      "\taverage\t\tstandard deviation\n"
     ]
    },
    {
     "data": {
      "text/plain": [
       "(0.65647110851043233, 0.064517554790889997)"
      ]
     },
     "execution_count": 71,
     "metadata": {},
     "output_type": "execute_result"
    }
   ],
   "source": [
    "#test coding regions\n",
    "a=Coding(tuberkulozaDNA, tuberkulozaBounds)\n",
    "len(a)\n",
    "\n",
    "print(\"\\taverage\\t\\tstandard deviation\")\n",
    "StatsOf(a)"
   ]
  },
  {
   "cell_type": "code",
   "execution_count": 72,
   "metadata": {
    "collapsed": true
   },
   "outputs": [],
   "source": [
    "#precoding regions\n",
    "def Precoding(indna, bounds):\n",
    "    answ=[]\n",
    "    for k in range(len(bounds)-1):\n",
    "        stop=bounds[k][1] # stop of first gene\n",
    "        start=bounds[k+1][0] # start of next gene\n",
    "        cflag=bounds[k+1][2]\n",
    "        if start-stop>50 and cflag==0:\n",
    "            cut=indna[start-50:start]\n",
    "            answ.extend(GCcontent(cut))\n",
    "    return answ"
   ]
  },
  {
   "cell_type": "code",
   "execution_count": 73,
   "metadata": {
    "collapsed": false
   },
   "outputs": [
    {
     "name": "stdout",
     "output_type": "stream",
     "text": [
      "\taverage\t\tstandard deviation\n"
     ]
    },
    {
     "data": {
      "text/plain": [
       "(0.64592188552188556, 0.099124301355561634)"
      ]
     },
     "execution_count": 73,
     "metadata": {},
     "output_type": "execute_result"
    }
   ],
   "source": [
    "#test precoding regions\n",
    "a=Precoding(tuberkulozaDNA, tuberkulozaBounds)\n",
    "print(\"\\taverage\\t\\tstandard deviation\")\n",
    "StatsOf(a)"
   ]
  },
  {
   "cell_type": "code",
   "execution_count": 74,
   "metadata": {
    "collapsed": false
   },
   "outputs": [
    {
     "data": {
      "image/png": "[encoded data removed]",
      "text/plain": [
       "<matplotlib.figure.Figure at 0x7f493107ff98>"
      ]
     },
     "metadata": {},
     "output_type": "display_data"
    }
   ],
   "source": [
    "#Plotovanje i poredjenje\n",
    "import matplotlib.pyplot as plt\n",
    "\n",
    "t=np.arange(0., 1., 0.02)\n",
    "plt.plot(t, t, 'r--', t, np.exp(-((t-0.628)**2)/(2*0.0803**2)), 'b', t, np.exp(-((t-0.6559)**2)/(2*0.0625**2)), 'g', t, np.exp(-((t-0.597)**2)/(2*0.0948**2)), 'b')\n",
    "plt.show()"
   ]
  },
  {
   "cell_type": "code",
   "execution_count": null,
   "metadata": {
    "collapsed": true
   },
   "outputs": [],
   "source": []
  }
 ],
 "metadata": {
  "celltoolbar": "Slideshow",
  "kernelspec": {
   "display_name": "Python 3",
   "language": "python",
   "name": "python3"
  },
  "language_info": {
   "codemirror_mode": {
    "name": "ipython",
    "version": 3
   },
   "file_extension": ".py",
   "mimetype": "text/x-python",
   "name": "python",
   "nbconvert_exporter": "python",
   "pygments_lexer": "ipython3",
   "version": "3.6.0"
  }
 },
 "nbformat": 4,
 "nbformat_minor": 2
}
