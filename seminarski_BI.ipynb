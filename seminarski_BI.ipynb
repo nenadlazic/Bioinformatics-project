{
 "cells": [
  {
   "cell_type": "markdown",
   "metadata": {
    "slideshow": {
     "slide_type": "slide"
    }
   },
   "source": [
    "# Seminarski rad iz Bioinformatike\n",
    "<br>\n",
    "## Tema: Predstavljanje DNK kao podatka i njegova primena kod Guanin-Citozin sadržaja\n",
    "<br>\n",
    "### Maksim Đurđevac \n",
    "    indeks: 1110/2016\n",
    "    email: mi11362@alas.matf.bg.ac.rs\n",
    "### Nenad Lazić\n",
    "    indeks: 1092/2015\n",
    "    email: nenadlatic13@gmail.com\n"
   ]
  },
  {
   "cell_type": "markdown",
   "metadata": {
    "slideshow": {
     "slide_type": "slide"
    }
   },
   "source": [
    "## Šta je DNA?\n",
    "- DNA (DeoxyriboNucleic Acid)\n",
    "\n",
    "- Sadrži uputstva za razvoj i pravilno funkcionisanje organizama\n",
    "\n",
    "<img src=\"files/celija.jpg\">\n"
   ]
  },
  {
   "cell_type": "markdown",
   "metadata": {
    "slideshow": {
     "slide_type": "slide"
    }
   },
   "source": [
    "## Predstavljanje DNK kao podatka\n",
    "- Dvostruki heliks - nosilac genetskog sadržaja\n",
    "- Veze heliksa su parovi nukleotida\n",
    "- Nukleotidi: \n",
    "    - A - adenin\n",
    "    - T - timin\n",
    "    - G - gudanin\n",
    "    - C - citozin\n",
    "- Komplementarnost nukleotida u vezama\n",
    "    - adenin <-> timin\n",
    "    - guanin <-> citozin\n"
   ]
  },
  {
   "cell_type": "markdown",
   "metadata": {
    "slideshow": {
     "slide_type": "slide"
    }
   },
   "source": [
    "## Hromozomi\n",
    "- Hromozomi su najvaznija komponenta jedra i oni su nosioci naslednih jedinica(gena)\n",
    "- Svojom aktivnošću određuju i regulišu metaboličke i sve ostale životne procese u ćelijama\n",
    "- Ljudska celija ima 22 hromozoma plus bilo XX ili XY hromozom koji odredjuje pol osobe\n",
    "- Ovi hromozomi sadrze niti DNK koje su obmotane kao dvostruka spirala (razlog veliki broj informacija)\n",
    "- Jezgro sadrži oko 3 milijarde nukleotida i DNK\n",
    "-  Jedro regulise sve procese u celiji u njemu se obavlja: \n",
    "    1. siteza(spajanje) DNK \n",
    "    2. svih vrsta RNK(transkripcija)\n",
    "    3. dela proteina(translacija)"
   ]
  },
  {
   "cell_type": "markdown",
   "metadata": {
    "slideshow": {
     "slide_type": "slide"
    }
   },
   "source": [
    "## Predstavljanje DNK kao podatka u digitalnom obliku\n",
    "- DNK cine dva heliksa povezana sa dva medjusobno komplementarna nukleotida\n",
    "- Dovoljno je zapisati nukleotide sa jedne strane veze\n",
    "- DNK se predstavlja dugačkim stringom koji čine početna slova naziva nukleotida\n",
    "    ...ACAAGATGCCATTGTCCCCCGGCCTCCTGCTGCTGCTGCTCTCCGGGGCCACGGCCACCGCTGCCCTGCC...\n",
    "- Kada bi se ,,odvio\" DNK imao bi dužinu oko 10m"
   ]
  },
  {
   "cell_type": "markdown",
   "metadata": {
    "slideshow": {
     "slide_type": "slide"
    }
   },
   "source": [
    "## Mitohondrije kao nosioci DNA\n",
    "- U unutrašnjosti ćelije obrazuje se čitav sistem membrana koje dele ćeliju na odeljke za obavljanje različitih funkcija u ćeliji i koje se zovu ćelijske organele. Dele se prema svojoj funkciji:\n",
    "    1. Organele koje učestvuju u procesima sinteze\n",
    "        - ribozomi\n",
    "        - endoplazmatični retikulum\n",
    "        - Goldžijev aparat\n",
    "    2. Organele u kojima se skladište hidrolitički enzimi\n",
    "        - litotomi\n",
    "        - peroksizomi\n",
    "        - vakuole biljne ćelije\n",
    "    3. Organele u kojima se sintetiše ATP\n",
    "        - mitohondrije\n",
    "        - hloroplasti\n",
    "        \n",
    "- Ovom podelom nisu obuhvaćeni jedro i centrozom\n",
    "- Mitohondrije se nalze izvan jezgra u citolazmi.\n",
    "    \n",
    "    \n"
   ]
  },
  {
   "cell_type": "markdown",
   "metadata": {
    "slideshow": {
     "slide_type": "slide"
    }
   },
   "source": [
    "## Kako se sintetiše protein\n",
    "- DNK sadrzi informacije koje su neophodne za gradjenje proteina\n",
    "- Proteini su dugacke niti aminokiselina\n",
    "- U citoplazmi se na DNK zakaci Ribozom koji cita DNK i prevodi ga u Amino kiseline\n",
    "- Kodon(grupa od 3 nukleotida) se prevodi u amino kiselinu \n",
    "- Lanac dobijenih amino kiselina cine protein\n",
    "\n",
    "<img src=\"files/kproteina.png\">"
   ]
  },
  {
   "cell_type": "markdown",
   "metadata": {
    "slideshow": {
     "slide_type": "slide"
    }
   },
   "source": [
    "## Alii... nije sve tako jednostavno\n",
    "- Neke od komplikacija:\n",
    "    1. Gen se moze sastojati iz vise delova DNK koji pocinju na razlicitim mestima\n",
    "    2. Za kreiranje GEN-a nekad je potrebno koristiti vise zapise DNK sa vise razlicitih pozicija. Oni se koriste za kreiranje mRNA koji se potom translira u protein\n",
    "    4. Ti delovi DNA koji su nam znacanjni za ocitavanje GEN-a nazivaju se exon-i (eng. exons) a delovi DNA izmedju exona-a nazivaju se introni(eng. introns), problem je detektovati gde je start codon i stop codon\n",
    "    <img src=\"files/exonsintrons.png\">\n",
    "    "
   ]
  },
  {
   "cell_type": "markdown",
   "metadata": {
    "slideshow": {
     "slide_type": "slide"
    }
   },
   "source": [
    "## Prevodjenje DNA u amino kiselinu\n",
    "<img src=\"files/aminoacid.png\">"
   ]
  },
  {
   "cell_type": "code",
   "execution_count": 2,
   "metadata": {
    "collapsed": false,
    "slideshow": {
     "slide_type": "slide"
    }
   },
   "outputs": [
    {
     "name": "stdout",
     "output_type": "stream",
     "text": [
      "pozdrav\n"
     ]
    }
   ],
   "source": [
    "def some_function():\n",
    "    print(\"pozdrav\")\n",
    "\n",
    "some_function()"
   ]
  },
  {
   "cell_type": "code",
   "execution_count": null,
   "metadata": {
    "collapsed": true
   },
   "outputs": [],
   "source": []
  }
 ],
 "metadata": {
  "celltoolbar": "Slideshow",
  "kernelspec": {
   "display_name": "Python 3",
   "language": "python",
   "name": "python3"
  },
  "language_info": {
   "codemirror_mode": {
    "name": "ipython",
    "version": 3
   },
   "file_extension": ".py",
   "mimetype": "text/x-python",
   "name": "python",
   "nbconvert_exporter": "python",
   "pygments_lexer": "ipython3",
   "version": "3.6.0"
  }
 },
 "nbformat": 4,
 "nbformat_minor": 2
}
